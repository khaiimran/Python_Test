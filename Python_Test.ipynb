{
  "nbformat": 4,
  "nbformat_minor": 0,
  "metadata": {
    "colab": {
      "provenance": [],
      "include_colab_link": true
    },
    "kernelspec": {
      "name": "python3",
      "display_name": "Python 3"
    },
    "language_info": {
      "name": "python"
    }
  },
  "cells": [
    {
      "cell_type": "markdown",
      "metadata": {
        "id": "view-in-github",
        "colab_type": "text"
      },
      "source": [
        "<a href=\"https://colab.research.google.com/github/khaiimran/Python_Test/blob/main/Python_Test.ipynb\" target=\"_parent\"><img src=\"https://colab.research.google.com/assets/colab-badge.svg\" alt=\"Open In Colab\"/></a>"
      ]
    },
    {
      "cell_type": "markdown",
      "source": [
        "Please complete the task as given requirement as following.\n",
        "\n",
        "\n",
        "Given an array of integers, write a program that finds the largest continuous sum. You only need to find the sum, not the number sequence.\n"
      ],
      "metadata": {
        "id": "Bwa89H0GC17Q"
      }
    },
    {
      "cell_type": "code",
      "source": [
        "\"\"\"\n",
        "Examples:\n",
        "Input: 1, 3, 4\n",
        "Output: 8\n",
        "\n",
        "Input: -1, 2, 3, 4, -10\n",
        "Output: 9\n",
        "\n",
        "Input: 12, -10, 3, -2, 2, 2\n",
        "Output: 12\n",
        "\"\"\""
      ],
      "metadata": {
        "colab": {
          "base_uri": "https://localhost:8080/",
          "height": 35
        },
        "id": "f1OaQjfmC9F2",
        "outputId": "f823d2ab-3e8e-4c58-9f7f-861eb5036b06"
      },
      "execution_count": null,
      "outputs": [
        {
          "output_type": "execute_result",
          "data": {
            "text/plain": [
              "'\\nExamples:\\nInput: 1, 3, 4\\nOutput: 8\\n\\nInput: -1, 2, 3, 4, -10\\nOutput: 9\\n\\nInput: 12, -10, 3, -2, 2, 2\\nOutput: 12\\n'"
            ],
            "application/vnd.google.colaboratory.intrinsic+json": {
              "type": "string"
            }
          },
          "metadata": {},
          "execution_count": 1
        }
      ]
    },
    {
      "cell_type": "code",
      "source": [
        "# You may create your code here."
      ],
      "metadata": {
        "id": "bmWsoog6DUR0"
      },
      "execution_count": null,
      "outputs": []
    }
  ]
}