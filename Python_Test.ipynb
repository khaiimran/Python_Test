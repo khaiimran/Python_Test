{
  "nbformat": 4,
  "nbformat_minor": 0,
  "metadata": {
    "colab": {
      "provenance": [],
      "include_colab_link": true
    },
    "kernelspec": {
      "name": "python3",
      "display_name": "Python 3"
    },
    "language_info": {
      "name": "python"
    }
  },
  "cells": [
    {
      "cell_type": "markdown",
      "metadata": {
        "id": "view-in-github",
        "colab_type": "text"
      },
      "source": [
        "<a href=\"https://colab.research.google.com/github/khaiimran/Python_Test/blob/main/Python_Test.ipynb\" target=\"_parent\"><img src=\"https://colab.research.google.com/assets/colab-badge.svg\" alt=\"Open In Colab\"/></a>"
      ]
    },
    {
      "cell_type": "markdown",
      "source": [
        "Please complete the task as given requirement as following.\n",
        "\n",
        "\n",
        "Given an array of integers, write a program that finds the largest continuous sum. You only need to find the sum, not the number sequence.\n"
      ],
      "metadata": {
        "id": "Bwa89H0GC17Q"
      }
    },
    {
      "cell_type": "code",
      "source": [
        "\"\"\"\n",
        "Examples:\n",
        "Input: 1, 3, 4\n",
        "Output: 8\n",
        "\n",
        "Input: -1, 2, 3, 4, -10\n",
        "Output: 9\n",
        "\n",
        "Input: 12, -10, 3, -2, 2, 2\n",
        "Output: 12\n",
        "\"\"\""
      ],
      "metadata": {
        "colab": {
          "base_uri": "https://localhost:8080/",
          "height": 35
        },
        "id": "f1OaQjfmC9F2",
        "outputId": "f823d2ab-3e8e-4c58-9f7f-861eb5036b06"
      },
      "execution_count": null,
      "outputs": [
        {
          "output_type": "execute_result",
          "data": {
            "text/plain": [
              "'\\nExamples:\\nInput: 1, 3, 4\\nOutput: 8\\n\\nInput: -1, 2, 3, 4, -10\\nOutput: 9\\n\\nInput: 12, -10, 3, -2, 2, 2\\nOutput: 12\\n'"
            ],
            "application/vnd.google.colaboratory.intrinsic+json": {
              "type": "string"
            }
          },
          "metadata": {},
          "execution_count": 1
        }
      ]
    },
    {
      "cell_type": "code",
      "source": [
        "import numpy as np\n",
        "\n",
        "def max_cum(arr):\n",
        "    # Use numpy cumsum function to generate an array of cummulative sum.\n",
        "    # Use numpy amax function to get the max integer in the array.\n",
        "    # Set the first max int from cumsum array as initial max, MAX_CUM.\n",
        "    MAX_CUM = np.amax(np.cumsum(arr))\n",
        "\n",
        "    # Set the first index\n",
        "    i = 1\n",
        "    len_arr = len(arr)\n",
        "\n",
        "    # Generate cumsum array from position 'i'.\n",
        "    while i < len_arr:\n",
        "\n",
        "        # Skip iteration if the first value is negative or less than previous.\n",
        "        if (arr[i] <= 0) or (arr[i] < arr[i-1]):\n",
        "            i += 1; continue\n",
        "        \n",
        "        temp = np.cumsum(arr[i:])\n",
        "        # print(temp) # To validify the cumsum array.        \n",
        "\n",
        "        temp = np.amax(temp)\n",
        "        # print(temp) # To validify the max int from cumsum array.\n",
        "        \n",
        "        # If the new max int is larger than MAX_CUM, then replace the int.\n",
        "        if temp > MAX_CUM: MAX_CUM = temp\n",
        "\n",
        "        # Skip to next iteration with negative integer.\n",
        "        for j in range(1,len(arr[i:])):\n",
        "            if arr[i+j] <= 0:\n",
        "                i += j; break\n",
        "        i += 1\n",
        "        \n",
        "    return MAX_CUM\n",
        "\n",
        "\n",
        "def main():\n",
        "    # Generate random integer array.\n",
        "    INT_ARR = np.random.randint(low=-100,high=100,size=10000)\n",
        "        \n",
        "    # View generated array to validify the result later.\n",
        "    print(\"Input: \", INT_ARR)\n",
        "    # Print the final result\n",
        "    print(\"Output: \", max_cum(INT_ARR))\n",
        "\n",
        "if __name__ == '__main__':\n",
        "    main()"
      ],
      "metadata": {
        "id": "bmWsoog6DUR0",
        "colab": {
          "base_uri": "https://localhost:8080/"
        },
        "outputId": "79a3eb73-7094-4a7f-fc83-1baec9c0ed78"
      },
      "execution_count": 12,
      "outputs": [
        {
          "output_type": "stream",
          "name": "stdout",
          "text": [
            "Input:  [ 71 -35 -66 ... -35 -38 -15]\n",
            "Output:  4406\n"
          ]
        }
      ]
    }
  ]
}