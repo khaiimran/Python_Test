{
  "nbformat": 4,
  "nbformat_minor": 0,
  "metadata": {
    "colab": {
      "provenance": [],
      "include_colab_link": true
    },
    "kernelspec": {
      "name": "python3",
      "display_name": "Python 3"
    },
    "language_info": {
      "name": "python"
    }
  },
  "cells": [
    {
      "cell_type": "markdown",
      "metadata": {
        "id": "view-in-github",
        "colab_type": "text"
      },
      "source": [
        "<a href=\"https://colab.research.google.com/github/khaiimran/Python_Test/blob/main/Python_Test.ipynb\" target=\"_parent\"><img src=\"https://colab.research.google.com/assets/colab-badge.svg\" alt=\"Open In Colab\"/></a>"
      ]
    },
    {
      "cell_type": "markdown",
      "source": [
        "Please complete the task as given requirement as following.\n",
        "\n",
        "\n",
        "Given an array of integers, write a program that finds the largest continuous sum. You only need to find the sum, not the number sequence.\n"
      ],
      "metadata": {
        "id": "Bwa89H0GC17Q"
      }
    },
    {
      "cell_type": "code",
      "source": [
        "\"\"\"\n",
        "Examples:\n",
        "Input: 1, 3, 4\n",
        "Output: 8\n",
        "\n",
        "Input: -1, 2, 3, 4, -10\n",
        "Output: 9\n",
        "\n",
        "Input: 12, -10, 3, -2, 2, 2\n",
        "Output: 12\n",
        "\"\"\""
      ],
      "metadata": {
        "colab": {
          "base_uri": "https://localhost:8080/",
          "height": 35
        },
        "id": "f1OaQjfmC9F2",
        "outputId": "f823d2ab-3e8e-4c58-9f7f-861eb5036b06"
      },
      "execution_count": null,
      "outputs": [
        {
          "output_type": "execute_result",
          "data": {
            "text/plain": [
              "'\\nExamples:\\nInput: 1, 3, 4\\nOutput: 8\\n\\nInput: -1, 2, 3, 4, -10\\nOutput: 9\\n\\nInput: 12, -10, 3, -2, 2, 2\\nOutput: 12\\n'"
            ],
            "application/vnd.google.colaboratory.intrinsic+json": {
              "type": "string"
            }
          },
          "metadata": {},
          "execution_count": 1
        }
      ]
    },
    {
      "cell_type": "code",
      "source": [
        "import numpy as np\n",
        "\n",
        "def max_cum(arr):\n",
        "    # Use numpy cumsum function to generate an array of cummulative sum.\n",
        "    # Use numpy amax function to get the max integer in the array.\n",
        "    # Set the first max int from cumsum array as initial max, MAX_CUM.\n",
        "    MAX_CUM = np.amax(np.cumsum(arr))\n",
        "\n",
        "    # Generate cumsum array from position 'i'.\n",
        "    for i in range(1,len(arr)):\n",
        "        temp = np.cumsum(arr[i:])\n",
        "        # print(temp) # To validify the cumsum array.\n",
        "        temp = np.amax(temp)\n",
        "        # print(temp) # To validify the max int from cumsum array.\n",
        "        \n",
        "        # If the new max int is larger than MAX_CUM, then replace the int.\n",
        "        if temp > MAX_CUM: MAX_CUM = temp\n",
        "        \n",
        "    return MAX_CUM\n",
        "\n",
        "\n",
        "# Generate random integer array.\n",
        "INT_ARR = np.random.randint(low=-100,high=100,size=100)\n",
        "\n",
        "# View generated array to validify the result later.\n",
        "print(\"Input: \", INT_ARR)\n",
        "# Print the final result\n",
        "print(\"Output: \", max_cum(INT_ARR))"
      ],
      "metadata": {
        "id": "bmWsoog6DUR0",
        "outputId": "5f153309-dd92-415b-e1a3-35a6c00f52bc",
        "colab": {
          "base_uri": "https://localhost:8080/"
        }
      },
      "execution_count": 4,
      "outputs": [
        {
          "output_type": "stream",
          "name": "stdout",
          "text": [
            "Input:  [ -3  91  45  31 -41 -13  37 -27  38 -35   0  54  31  33  75 -90  17  53\n",
            "  78  52 -50  -3 -31  -3  40 -41  26 -33  89 -35 -35 -87  45  99  -3  67\n",
            " -33 -33 -21 -74 -15  96 -51  84  30 -56  13 -19  43  -2  65 -35  90  99\n",
            "  43  24  61  45  48 -81  87 -10 -60 -24 -21   9  85  58  90  -9  -5 -77\n",
            " -17 -32 -12  12 -77 -30 -67  -8 -47 -62  34  31 -56 -97 -20  40  41 -68\n",
            "  39  85 -39 -81 -23  43  -1   1  91  72]\n",
            "Output:  1009\n"
          ]
        }
      ]
    }
  ]
}